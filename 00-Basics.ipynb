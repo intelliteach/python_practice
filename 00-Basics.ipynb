{
 "cells": [
  {
   "cell_type": "markdown",
   "id": "653e43cb",
   "metadata": {},
   "source": [
    "DATA TYPES"
   ]
  },
  {
   "cell_type": "code",
   "execution_count": 1,
   "id": "9272a0e7",
   "metadata": {},
   "outputs": [
    {
     "name": "stdout",
     "output_type": "stream",
     "text": [
      "John\n",
      "Doe's\n",
      "[1, 2, 3]\n",
      "{'first': 'Bob', 'last': 'Dole', 'age': 34}\n",
      "{1, 2, 3, 4, 5}\n",
      "(1, 2)\n",
      "1\n",
      "2\n",
      "True\n",
      "<class 'bool'>\n",
      "<class 'tuple'>\n",
      "<class 'set'>\n",
      "<class 'list'>\n",
      "<class 'dict'>\n",
      "<class 'str'>\n"
     ]
    }
   ],
   "source": [
    "str = 'John'\n",
    "str2 = \"Doe's\"\n",
    "print(str)\n",
    "print(str2)\n",
    "\n",
    "list = [1,2,3]\n",
    "print (list)\n",
    "\n",
    "map = {\"first\": \"Bob\", \"last\": \"Dole\", \"age\": 34}\n",
    "print(map)\n",
    "\n",
    "set_example = {1,2,3,4,5,5} #second 5 is not added\n",
    "print(set_example)\n",
    "\n",
    "tuple = (1,2) #immutable list, mainly used for scenarios like -> weekdays = (\"Monday\", \"Tuesday\", \"Wednesday\", \"Thursday\", \"Friday\", \"Saturday\", \"Sunday\")\n",
    "print(tuple)\n",
    "a, b = tuple # you can unpack tuple directly to multiple variables when assigned or as a method return type\n",
    "print(a)#1\n",
    "print(b)#2\n",
    "\n",
    "isMarried = True\n",
    "isLegalAgeToDrink = False\n",
    "\n",
    "print(isMarried)\n",
    "\n",
    "#to check the type of the variable use type()\n",
    "\n",
    "print(type(isMarried))\n",
    "print(type(tuple))\n",
    "print(type(set_example))\n",
    "print(type(list))\n",
    "print(type(map))\n",
    "print(type(str))\n",
    "\n"
   ]
  },
  {
   "cell_type": "markdown",
   "id": "7ed6be2f",
   "metadata": {},
   "source": [
    "OPERATORS"
   ]
  },
  {
   "cell_type": "code",
   "execution_count": 2,
   "id": "f6c0937c",
   "metadata": {},
   "outputs": [
    {
     "name": "stdout",
     "output_type": "stream",
     "text": [
      "1\n"
     ]
    }
   ],
   "source": [
    "print (10 % 3)"
   ]
  },
  {
   "cell_type": "code",
   "execution_count": 3,
   "id": "db4f0d3d",
   "metadata": {},
   "outputs": [
    {
     "name": "stdout",
     "output_type": "stream",
     "text": [
      "even\n"
     ]
    }
   ],
   "source": [
    "num = 44\n",
    "if num % 2 == 0:\n",
    " print('even')"
   ]
  },
  {
   "cell_type": "code",
   "execution_count": 4,
   "id": "40e71fa2",
   "metadata": {},
   "outputs": [
    {
     "name": "stdout",
     "output_type": "stream",
     "text": [
      "1024\n"
     ]
    }
   ],
   "source": [
    "print(2**10) #exponent **"
   ]
  },
  {
   "cell_type": "markdown",
   "id": "fdf4d1f3",
   "metadata": {},
   "source": [
    "STRINGS"
   ]
  },
  {
   "cell_type": "code",
   "execution_count": 5,
   "id": "a7fa73a6",
   "metadata": {},
   "outputs": [
    {
     "name": "stdout",
     "output_type": "stream",
     "text": [
      "12\n"
     ]
    }
   ],
   "source": [
    "text = \"Hello World!\"\n",
    "\n",
    "print( len (text))  #len() is universal, works for strings, lists,sets, maps, etc"
   ]
  },
  {
   "cell_type": "code",
   "execution_count": 6,
   "id": "376a9a02",
   "metadata": {},
   "outputs": [
    {
     "name": "stdout",
     "output_type": "stream",
     "text": [
      "H\n",
      "!\n",
      "!\n",
      "H\n",
      "Hel\n",
      "Hel\n",
      "World!\n",
      "World!\n",
      "Hello World!\n",
      "HloWrd\n",
      "!dlroW olleH\n"
     ]
    }
   ],
   "source": [
    "#index can be negative in strings\n",
    "\n",
    "print(text[0])\n",
    "print(text[11])\n",
    "#print(text[12]) #IndexError: string index out of range\n",
    "\n",
    "print(text[-1]) #len(text)-1\n",
    "print(text[-12])# first letter\n",
    "#print(text[-13])# #IndexError: string index out of range\n",
    "\n",
    "\n",
    "#slicing syntax [start:stop:step] # omitting any of them means default value\n",
    "\n",
    "print(text[0:3]) #Hel\n",
    "print(text[:3]) #Hel\n",
    "print(text[6:12]) #World!\n",
    "print(text[6:]) #World!\n",
    "print(text[0:12:1]) #Hello World!\n",
    "print(text[0:12:2]) #HloWrd\n",
    "print(text[::-1]) #!dlroW olleH -> reverse\n",
    "\n"
   ]
  },
  {
   "cell_type": "code",
   "execution_count": 7,
   "id": "77a03dc7",
   "metadata": {},
   "outputs": [
    {
     "name": "stdout",
     "output_type": "stream",
     "text": [
      "hellohellohellohellohello\n"
     ]
    }
   ],
   "source": [
    "#String can be \"multiplied\" in Python\n",
    "print('hello'*5)"
   ]
  },
  {
   "cell_type": "code",
   "execution_count": 8,
   "id": "642f12bd",
   "metadata": {},
   "outputs": [
    {
     "data": {
      "text/plain": [
       "'Cool herc'"
      ]
     },
     "execution_count": 8,
     "metadata": {},
     "output_type": "execute_result"
    }
   ],
   "source": [
    "word = 'cool herc'\n",
    "word.capitalize()"
   ]
  },
  {
   "cell_type": "code",
   "execution_count": 9,
   "id": "a317515e",
   "metadata": {},
   "outputs": [
    {
     "data": {
      "text/plain": [
       "'cool herc'"
      ]
     },
     "execution_count": 9,
     "metadata": {},
     "output_type": "execute_result"
    }
   ],
   "source": [
    "word.casefold()"
   ]
  },
  {
   "cell_type": "code",
   "execution_count": 10,
   "id": "db2a05bc",
   "metadata": {},
   "outputs": [
    {
     "data": {
      "text/plain": [
       "2"
      ]
     },
     "execution_count": 10,
     "metadata": {},
     "output_type": "execute_result"
    }
   ],
   "source": [
    "word.count('o')"
   ]
  },
  {
   "cell_type": "code",
   "execution_count": 11,
   "id": "ece1b790",
   "metadata": {},
   "outputs": [
    {
     "data": {
      "text/plain": [
       "'Cool Herc'"
      ]
     },
     "execution_count": 11,
     "metadata": {},
     "output_type": "execute_result"
    }
   ],
   "source": [
    "word.title()"
   ]
  },
  {
   "cell_type": "code",
   "execution_count": 12,
   "id": "e16bee3c",
   "metadata": {},
   "outputs": [
    {
     "data": {
      "text/plain": [
       "['cool', 'herc']"
      ]
     },
     "execution_count": 12,
     "metadata": {},
     "output_type": "execute_result"
    }
   ],
   "source": [
    "word.split()"
   ]
  },
  {
   "cell_type": "code",
   "execution_count": 13,
   "id": "da02de1f",
   "metadata": {},
   "outputs": [
    {
     "data": {
      "text/plain": [
       "'cuul herc'"
      ]
     },
     "execution_count": 13,
     "metadata": {},
     "output_type": "execute_result"
    }
   ],
   "source": [
    "word.replace('o', 'u')"
   ]
  },
  {
   "cell_type": "code",
   "execution_count": 14,
   "id": "5e1b3bf5",
   "metadata": {},
   "outputs": [
    {
     "data": {
      "text/plain": [
       "'cl herc'"
      ]
     },
     "execution_count": 14,
     "metadata": {},
     "output_type": "execute_result"
    }
   ],
   "source": [
    "word.replace('o', '')"
   ]
  },
  {
   "cell_type": "code",
   "execution_count": 15,
   "id": "a7db4598",
   "metadata": {},
   "outputs": [
    {
     "data": {
      "text/plain": [
       "'whatcool hercup'"
      ]
     },
     "execution_count": 15,
     "metadata": {},
     "output_type": "execute_result"
    }
   ],
   "source": [
    "word.join(['what', 'up'])"
   ]
  },
  {
   "cell_type": "code",
   "execution_count": 16,
   "id": "d2d539b0",
   "metadata": {},
   "outputs": [
    {
     "data": {
      "text/plain": [
       "'what up'"
      ]
     },
     "execution_count": 16,
     "metadata": {},
     "output_type": "execute_result"
    }
   ],
   "source": [
    "' '.join(['what', 'up'])"
   ]
  },
  {
   "cell_type": "markdown",
   "id": "1c1e2288",
   "metadata": {},
   "source": [
    "FORMATTING STRINGS"
   ]
  },
  {
   "cell_type": "code",
   "execution_count": 17,
   "id": "f8205008",
   "metadata": {},
   "outputs": [
    {
     "data": {
      "text/plain": [
       "'This is a cool STORY'"
      ]
     },
     "execution_count": 17,
     "metadata": {},
     "output_type": "execute_result"
    }
   ],
   "source": [
    "sentence = 'This is a cool {}'\n",
    "sentence.format('STORY')"
   ]
  },
  {
   "cell_type": "code",
   "execution_count": 18,
   "id": "3be8c109",
   "metadata": {},
   "outputs": [
    {
     "data": {
      "text/plain": [
       "'Sentence: fox brown quick'"
      ]
     },
     "execution_count": 18,
     "metadata": {},
     "output_type": "execute_result"
    }
   ],
   "source": [
    "'Sentence: {} {} {}'.format('fox', 'brown', 'quick')"
   ]
  },
  {
   "cell_type": "code",
   "execution_count": 19,
   "id": "a1d40a90",
   "metadata": {},
   "outputs": [
    {
     "data": {
      "text/plain": [
       "'Sentence: fox brown quick'"
      ]
     },
     "execution_count": 19,
     "metadata": {},
     "output_type": "execute_result"
    }
   ],
   "source": [
    "'Sentence: {0} {1} {2}'.format('fox', 'brown', 'quick')"
   ]
  },
  {
   "cell_type": "code",
   "execution_count": 20,
   "id": "5f3a459b",
   "metadata": {},
   "outputs": [
    {
     "data": {
      "text/plain": [
       "'Sentence: quick brown fox'"
      ]
     },
     "execution_count": 20,
     "metadata": {},
     "output_type": "execute_result"
    }
   ],
   "source": [
    "'Sentence: {2} {1} {0}'.format('fox', 'brown', 'quick')"
   ]
  },
  {
   "cell_type": "code",
   "execution_count": 21,
   "id": "b551c502",
   "metadata": {},
   "outputs": [
    {
     "data": {
      "text/plain": [
       "'SELECT first_name FROM employees LIMIT 3'"
      ]
     },
     "execution_count": 21,
     "metadata": {},
     "output_type": "execute_result"
    }
   ],
   "source": [
    "\"SELECT {column} FROM {table} LIMIT {limit}\".format(column = 'first_name', table='employees', limit='3')"
   ]
  },
  {
   "cell_type": "markdown",
   "id": "50bdbf28",
   "metadata": {},
   "source": [
    "FORMATTING FLOATS"
   ]
  },
  {
   "cell_type": "markdown",
   "id": "17aad4bf",
   "metadata": {},
   "source": [
    "formatting the float output follows the syntax {value : width.precision f} -> {val:1.2f}"
   ]
  },
  {
   "cell_type": "code",
   "execution_count": 22,
   "id": "6944f3a4",
   "metadata": {},
   "outputs": [],
   "source": [
    "tip = 129.79 * 0.25"
   ]
  },
  {
   "cell_type": "code",
   "execution_count": 23,
   "id": "58d1d176",
   "metadata": {},
   "outputs": [
    {
     "name": "stdout",
     "output_type": "stream",
     "text": [
      "The tip amount is 32.4475\n"
     ]
    }
   ],
   "source": [
    "print ('The tip amount is {}'.format(tip))"
   ]
  },
  {
   "cell_type": "code",
   "execution_count": 24,
   "id": "20d4ffba",
   "metadata": {},
   "outputs": [
    {
     "name": "stdout",
     "output_type": "stream",
     "text": [
      "The tip amount is 32.45\n"
     ]
    }
   ],
   "source": [
    "print ('The tip amount is {val:1.2f}'.format(val=tip))"
   ]
  },
  {
   "cell_type": "code",
   "execution_count": 25,
   "id": "79332468",
   "metadata": {},
   "outputs": [],
   "source": [
    "# will be rounded up"
   ]
  },
  {
   "cell_type": "code",
   "execution_count": 26,
   "id": "7d80c509",
   "metadata": {},
   "outputs": [
    {
     "data": {
      "text/plain": [
       "'This is a cool STORY'"
      ]
     },
     "execution_count": 26,
     "metadata": {},
     "output_type": "execute_result"
    }
   ],
   "source": [
    "#F-Strings are introduced in Python 3.6\n",
    "\n",
    "#old way \n",
    "word = 'STORY'\n",
    "'This is a cool {}'.format(word)\n"
   ]
  },
  {
   "cell_type": "code",
   "execution_count": 27,
   "id": "81add67b",
   "metadata": {},
   "outputs": [
    {
     "name": "stdout",
     "output_type": "stream",
     "text": [
      "This is a cool STORY\n"
     ]
    }
   ],
   "source": [
    "#new way\n",
    "word = 'STORY'\n",
    "print(f'This is a cool {word}')"
   ]
  },
  {
   "cell_type": "code",
   "execution_count": 28,
   "id": "04271098",
   "metadata": {},
   "outputs": [
    {
     "name": "stdout",
     "output_type": "stream",
     "text": [
      "This is a cool STORY\n"
     ]
    }
   ],
   "source": [
    "# same as\n",
    "print('This is a cool ' + word)"
   ]
  },
  {
   "cell_type": "markdown",
   "id": "c349c75d",
   "metadata": {},
   "source": [
    "LISTS"
   ]
  },
  {
   "cell_type": "code",
   "execution_count": 29,
   "id": "7de706de",
   "metadata": {},
   "outputs": [
    {
     "data": {
      "text/plain": [
       "1"
      ]
     },
     "execution_count": 29,
     "metadata": {},
     "output_type": "execute_result"
    }
   ],
   "source": [
    "my_list = [1,2,3]\n",
    "another_list = [1, \"dsd\", 23.5, [1,2]] # can have any type\n",
    "my_list[0]"
   ]
  },
  {
   "cell_type": "code",
   "execution_count": 30,
   "id": "7a4b6684",
   "metadata": {},
   "outputs": [
    {
     "data": {
      "text/plain": [
       "[1, 2, 3, 1, 'dsd', 23.5, [1, 2]]"
      ]
     },
     "execution_count": 30,
     "metadata": {},
     "output_type": "execute_result"
    }
   ],
   "source": [
    "new_list = my_list + another_list #can be concatenated\n",
    "new_list"
   ]
  },
  {
   "cell_type": "code",
   "execution_count": 31,
   "id": "0258c524",
   "metadata": {},
   "outputs": [
    {
     "data": {
      "text/plain": [
       "[1, 2, 3, 1, 'dsd', 23.5, [1, 2], 5]"
      ]
     },
     "execution_count": 31,
     "metadata": {},
     "output_type": "execute_result"
    }
   ],
   "source": [
    "new_list.append(5)\n",
    "new_list"
   ]
  },
  {
   "cell_type": "code",
   "execution_count": 32,
   "id": "532c1251",
   "metadata": {},
   "outputs": [
    {
     "data": {
      "text/plain": [
       "[1, 2, 3, 1, 'dsd', 23.5, [1, 2], 5]"
      ]
     },
     "execution_count": 32,
     "metadata": {},
     "output_type": "execute_result"
    }
   ],
   "source": [
    "new_list"
   ]
  },
  {
   "cell_type": "code",
   "execution_count": 33,
   "id": "8ab759ec",
   "metadata": {},
   "outputs": [
    {
     "data": {
      "text/plain": [
       "[1, 2, 3, 1, 'dsd', 23.5, [1, 2]]"
      ]
     },
     "execution_count": 33,
     "metadata": {},
     "output_type": "execute_result"
    }
   ],
   "source": [
    "new_list.pop()\n",
    "new_list"
   ]
  },
  {
   "cell_type": "code",
   "execution_count": 34,
   "id": "3b20348a",
   "metadata": {},
   "outputs": [
    {
     "data": {
      "text/plain": [
       "1"
      ]
     },
     "execution_count": 34,
     "metadata": {},
     "output_type": "execute_result"
    }
   ],
   "source": [
    "new_list.pop(0)"
   ]
  },
  {
   "cell_type": "code",
   "execution_count": 35,
   "id": "a9049b7e",
   "metadata": {},
   "outputs": [
    {
     "data": {
      "text/plain": [
       "[2, 3, 1, 'dsd', 23.5, [1, 2]]"
      ]
     },
     "execution_count": 35,
     "metadata": {},
     "output_type": "execute_result"
    }
   ],
   "source": [
    "new_list"
   ]
  },
  {
   "cell_type": "code",
   "execution_count": 36,
   "id": "846f9893",
   "metadata": {},
   "outputs": [],
   "source": [
    "num_list = [3,4,2,4,1]\n",
    "num_list.sort()"
   ]
  },
  {
   "cell_type": "code",
   "execution_count": 37,
   "id": "5cea8df1",
   "metadata": {},
   "outputs": [
    {
     "data": {
      "text/plain": [
       "[1, 2, 3, 4, 4]"
      ]
     },
     "execution_count": 37,
     "metadata": {},
     "output_type": "execute_result"
    }
   ],
   "source": [
    "num_list"
   ]
  },
  {
   "cell_type": "code",
   "execution_count": 38,
   "id": "2bf57b51",
   "metadata": {},
   "outputs": [
    {
     "data": {
      "text/plain": [
       "[4, 4, 3, 2, 1]"
      ]
     },
     "execution_count": 38,
     "metadata": {},
     "output_type": "execute_result"
    }
   ],
   "source": [
    "num_list.reverse()\n",
    "num_list"
   ]
  },
  {
   "cell_type": "code",
   "execution_count": 39,
   "id": "47d9dc2e",
   "metadata": {},
   "outputs": [
    {
     "data": {
      "text/plain": [
       "[1, 2, 3, 4, 4]"
      ]
     },
     "execution_count": 39,
     "metadata": {},
     "output_type": "execute_result"
    }
   ],
   "source": [
    "num_list[::-1] #reverse the list, indexing works just like strings"
   ]
  },
  {
   "cell_type": "markdown",
   "id": "81d13076",
   "metadata": {},
   "source": [
    "DICTIONARY (MAPS)"
   ]
  },
  {
   "cell_type": "code",
   "execution_count": 40,
   "id": "53a72a17",
   "metadata": {},
   "outputs": [
    {
     "data": {
      "text/plain": [
       "{1: 'a', 2: 'b', 3: 'c'}"
      ]
     },
     "execution_count": 40,
     "metadata": {},
     "output_type": "execute_result"
    }
   ],
   "source": [
    "my_dict = {1:'a', 2:'b', 3:'c'}\n",
    "my_dict"
   ]
  },
  {
   "cell_type": "code",
   "execution_count": 41,
   "id": "9152246c",
   "metadata": {},
   "outputs": [
    {
     "data": {
      "text/plain": [
       "'b'"
      ]
     },
     "execution_count": 41,
     "metadata": {},
     "output_type": "execute_result"
    }
   ],
   "source": [
    "my_dict.get(2) #lookup"
   ]
  },
  {
   "cell_type": "code",
   "execution_count": 42,
   "id": "af9e28f8",
   "metadata": {},
   "outputs": [
    {
     "data": {
      "text/plain": [
       "'b'"
      ]
     },
     "execution_count": 42,
     "metadata": {},
     "output_type": "execute_result"
    }
   ],
   "source": [
    "my_dict[2] #lookup"
   ]
  },
  {
   "cell_type": "code",
   "execution_count": 43,
   "id": "2dca4d23",
   "metadata": {},
   "outputs": [
    {
     "ename": "KeyError",
     "evalue": "5",
     "output_type": "error",
     "traceback": [
      "\u001b[0;31m---------------------------------------------------------------------------\u001b[0m",
      "\u001b[0;31mKeyError\u001b[0m                                  Traceback (most recent call last)",
      "Cell \u001b[0;32mIn[43], line 1\u001b[0m\n\u001b[0;32m----> 1\u001b[0m my_dict[\u001b[38;5;241m5\u001b[39m]\n",
      "\u001b[0;31mKeyError\u001b[0m: 5"
     ]
    }
   ],
   "source": [
    "my_dict[5] #results in KeyError: 5"
   ]
  },
  {
   "cell_type": "code",
   "execution_count": 44,
   "id": "4fe09107",
   "metadata": {},
   "outputs": [
    {
     "data": {
      "text/plain": [
       "{1: 'a', 2: 'b', 3: 'c', 4: 'd'}"
      ]
     },
     "execution_count": 44,
     "metadata": {},
     "output_type": "execute_result"
    }
   ],
   "source": [
    "my_dict[4] = 'd'  #add  a new pair\n",
    "my_dict"
   ]
  },
  {
   "cell_type": "code",
   "execution_count": 45,
   "id": "a76b0838",
   "metadata": {},
   "outputs": [
    {
     "data": {
      "text/plain": [
       "{1: 'a', 2: 'b', 3: 'c', 4: 'x'}"
      ]
     },
     "execution_count": 45,
     "metadata": {},
     "output_type": "execute_result"
    }
   ],
   "source": [
    "my_dict[4] = 'x' #overwrites the previous value\n",
    "my_dict "
   ]
  },
  {
   "cell_type": "code",
   "execution_count": 46,
   "id": "b6098a3a",
   "metadata": {},
   "outputs": [
    {
     "name": "stdout",
     "output_type": "stream",
     "text": [
      "dict_values(['a', 'b'])\n",
      "dict_keys([1, 2])\n",
      "dict_items([(1, 'a'), (2, 'b')])\n",
      "{1: '99', 2: '99', 3: '99'}\n"
     ]
    }
   ],
   "source": [
    "d  = {1:'a', 2:'b'}\n",
    "print(d.values()) #values\n",
    "print(d.keys()) # keyset\n",
    "print(d.items()) #entries\n",
    "print(d.fromkeys([1,2,3], '99')) #creates a new map from the list as keys and given value"
   ]
  },
  {
   "cell_type": "markdown",
   "id": "3fca88e6",
   "metadata": {},
   "source": [
    "TUPLES"
   ]
  },
  {
   "cell_type": "code",
   "execution_count": 47,
   "id": "dc17aa27",
   "metadata": {},
   "outputs": [
    {
     "data": {
      "text/plain": [
       "tuple"
      ]
     },
     "execution_count": 47,
     "metadata": {},
     "output_type": "execute_result"
    }
   ],
   "source": [
    "tup = (1,2,3)\n",
    "type(tup)"
   ]
  },
  {
   "cell_type": "code",
   "execution_count": 48,
   "id": "c8867949",
   "metadata": {},
   "outputs": [
    {
     "data": {
      "text/plain": [
       "2"
      ]
     },
     "execution_count": 48,
     "metadata": {},
     "output_type": "execute_result"
    }
   ],
   "source": [
    "tup[1]\n"
   ]
  },
  {
   "cell_type": "code",
   "execution_count": 49,
   "id": "6af80170",
   "metadata": {},
   "outputs": [
    {
     "data": {
      "text/plain": [
       "3"
      ]
     },
     "execution_count": 49,
     "metadata": {},
     "output_type": "execute_result"
    }
   ],
   "source": [
    "tup[-1]"
   ]
  },
  {
   "cell_type": "code",
   "execution_count": 50,
   "id": "e2de8d4a",
   "metadata": {},
   "outputs": [],
   "source": [
    "lis = [1,2,3]\n",
    "lis[1] = 23;"
   ]
  },
  {
   "cell_type": "code",
   "execution_count": 51,
   "id": "1a257c67",
   "metadata": {},
   "outputs": [
    {
     "data": {
      "text/plain": [
       "[1, 23, 3]"
      ]
     },
     "execution_count": 51,
     "metadata": {},
     "output_type": "execute_result"
    }
   ],
   "source": [
    "lis"
   ]
  },
  {
   "cell_type": "code",
   "execution_count": 53,
   "id": "007bc77c",
   "metadata": {},
   "outputs": [
    {
     "ename": "TypeError",
     "evalue": "'tuple' object does not support item assignment",
     "output_type": "error",
     "traceback": [
      "\u001b[0;31m---------------------------------------------------------------------------\u001b[0m",
      "\u001b[0;31mTypeError\u001b[0m                                 Traceback (most recent call last)",
      "Cell \u001b[0;32mIn[53], line 1\u001b[0m\n\u001b[0;32m----> 1\u001b[0m tup[\u001b[38;5;241m0\u001b[39m] \u001b[38;5;241m=\u001b[39m \u001b[38;5;241m55\u001b[39m\n",
      "\u001b[0;31mTypeError\u001b[0m: 'tuple' object does not support item assignment"
     ]
    }
   ],
   "source": [
    "tup[0] = 55"
   ]
  },
  {
   "cell_type": "code",
   "execution_count": 56,
   "id": "b52fd89a",
   "metadata": {},
   "outputs": [
    {
     "name": "stdout",
     "output_type": "stream",
     "text": [
      "set()\n"
     ]
    },
    {
     "data": {
      "text/plain": [
       "{1, 2, 3}"
      ]
     },
     "execution_count": 56,
     "metadata": {},
     "output_type": "execute_result"
    }
   ],
   "source": [
    "new_one = set()\n",
    "print(new_one)\n",
    "new_one.add(1)\n",
    "new_one.add(2)\n",
    "new_one.add(3)\n",
    "new_one\n",
    "new_one.add(3)\n",
    "new_one\n"
   ]
  },
  {
   "cell_type": "code",
   "execution_count": 58,
   "id": "89c11441",
   "metadata": {},
   "outputs": [],
   "source": [
    "from_list_to_set = set([1,2,3,4,4,2,1,2,3,4])"
   ]
  },
  {
   "cell_type": "code",
   "execution_count": 59,
   "id": "ca8c169f",
   "metadata": {},
   "outputs": [
    {
     "data": {
      "text/plain": [
       "{1, 2, 3, 4}"
      ]
     },
     "execution_count": 59,
     "metadata": {},
     "output_type": "execute_result"
    }
   ],
   "source": [
    "from_list_to_set"
   ]
  },
  {
   "cell_type": "code",
   "execution_count": null,
   "id": "dbedc4f1",
   "metadata": {},
   "outputs": [],
   "source": []
  }
 ],
 "metadata": {
  "kernelspec": {
   "display_name": "Python 3 (ipykernel)",
   "language": "python",
   "name": "python3"
  },
  "language_info": {
   "codemirror_mode": {
    "name": "ipython",
    "version": 3
   },
   "file_extension": ".py",
   "mimetype": "text/x-python",
   "name": "python",
   "nbconvert_exporter": "python",
   "pygments_lexer": "ipython3",
   "version": "3.11.4"
  }
 },
 "nbformat": 4,
 "nbformat_minor": 5
}
