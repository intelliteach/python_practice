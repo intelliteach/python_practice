{
 "cells": [
  {
   "cell_type": "markdown",
   "id": "3d0c2c53",
   "metadata": {},
   "source": [
    "DATA TYPES"
   ]
  },
  {
   "cell_type": "code",
   "execution_count": 20,
   "id": "5bd8fe4f",
   "metadata": {},
   "outputs": [
    {
     "name": "stdout",
     "output_type": "stream",
     "text": [
      "John\n",
      "Doe's\n",
      "[1, 2, 3]\n",
      "{'first': 'Bob', 'last': 'Dole', 'age': 34}\n",
      "{1, 2, 3, 4, 5}\n",
      "(1, 2)\n",
      "1\n",
      "2\n",
      "True\n",
      "<class 'bool'>\n",
      "<class 'tuple'>\n",
      "<class 'set'>\n",
      "<class 'list'>\n",
      "<class 'dict'>\n",
      "<class 'str'>\n"
     ]
    }
   ],
   "source": [
    "str = 'John'\n",
    "str2 = \"Doe's\"\n",
    "print(str)\n",
    "print(str2)\n",
    "\n",
    "list = [1,2,3]\n",
    "print (list)\n",
    "\n",
    "map = {\"first\": \"Bob\", \"last\": \"Dole\", \"age\": 34}\n",
    "print(map)\n",
    "\n",
    "set = {1,2,3,4,5,5} #second 5 is not added\n",
    "print(set)\n",
    "\n",
    "tuple = (1,2) #immutable list, mainly used for scenarios like -> weekdays = (\"Monday\", \"Tuesday\", \"Wednesday\", \"Thursday\", \"Friday\", \"Saturday\", \"Sunday\")\n",
    "print(tuple)\n",
    "a, b = tuple # you can unpack tuple directly to multiple variables when assigned or as a method return type\n",
    "print(a)#1\n",
    "print(b)#2\n",
    "\n",
    "isMarried = True\n",
    "isLegalAgeToDrink = False\n",
    "\n",
    "print(isMarried)\n",
    "\n",
    "#to check the type of the variable use type()\n",
    "\n",
    "print(type(isMarried))\n",
    "print(type(tuple))\n",
    "print(type(set))\n",
    "print(type(list))\n",
    "print(type(map))\n",
    "print(type(str))\n",
    "\n"
   ]
  },
  {
   "cell_type": "markdown",
   "id": "443cd3b7",
   "metadata": {},
   "source": [
    "OPERATORS"
   ]
  },
  {
   "cell_type": "code",
   "execution_count": 13,
   "id": "1961add5",
   "metadata": {},
   "outputs": [
    {
     "name": "stdout",
     "output_type": "stream",
     "text": [
      "1\n"
     ]
    }
   ],
   "source": [
    "print (10 % 3)"
   ]
  },
  {
   "cell_type": "code",
   "execution_count": 15,
   "id": "e001a61c",
   "metadata": {},
   "outputs": [
    {
     "name": "stdout",
     "output_type": "stream",
     "text": [
      "even\n"
     ]
    }
   ],
   "source": [
    "num = 44\n",
    "if num % 2 == 0:\n",
    " print('even')"
   ]
  },
  {
   "cell_type": "code",
   "execution_count": 21,
   "id": "fa9b4cbd",
   "metadata": {},
   "outputs": [
    {
     "name": "stdout",
     "output_type": "stream",
     "text": [
      "1024\n"
     ]
    }
   ],
   "source": [
    "print(2**10) #exponent **"
   ]
  },
  {
   "cell_type": "markdown",
   "id": "c71a044d",
   "metadata": {},
   "source": [
    "STRINGS"
   ]
  },
  {
   "cell_type": "code",
   "execution_count": 22,
   "id": "47a3994e",
   "metadata": {},
   "outputs": [
    {
     "name": "stdout",
     "output_type": "stream",
     "text": [
      "12\n"
     ]
    }
   ],
   "source": [
    "text = \"Hello World!\"\n",
    "\n",
    "print( len (text))  #len() is universal, works for strings, lists,sets, maps, etc"
   ]
  },
  {
   "cell_type": "code",
   "execution_count": 37,
   "id": "41114a64",
   "metadata": {},
   "outputs": [
    {
     "name": "stdout",
     "output_type": "stream",
     "text": [
      "H\n",
      "!\n",
      "!\n",
      "H\n",
      "Hel\n",
      "Hel\n",
      "World!\n",
      "World!\n",
      "Hello World!\n",
      "HloWrd\n",
      "!dlroW olleH\n"
     ]
    }
   ],
   "source": [
    "#index can be negative in strings\n",
    "\n",
    "print(text[0])\n",
    "print(text[11])\n",
    "#print(text[12]) #IndexError: string index out of range\n",
    "\n",
    "print(text[-1]) #len(text)-1\n",
    "print(text[-12])# first letter\n",
    "#print(text[-13])# #IndexError: string index out of range\n",
    "\n",
    "\n",
    "#slicing syntax [start:stop:step] # omitting any of them means default value\n",
    "\n",
    "print(text[0:3]) #Hel\n",
    "print(text[:3]) #Hel\n",
    "print(text[6:12]) #World!\n",
    "print(text[6:]) #World!\n",
    "print(text[0:12:1]) #Hello World!\n",
    "print(text[0:12:2]) #HloWrd\n",
    "print(text[::-1]) #!dlroW olleH -> reverse\n",
    "\n"
   ]
  },
  {
   "cell_type": "code",
   "execution_count": 38,
   "id": "833502ae",
   "metadata": {},
   "outputs": [
    {
     "name": "stdout",
     "output_type": "stream",
     "text": [
      "hellohellohellohellohello\n"
     ]
    }
   ],
   "source": [
    "#String can be \"multiplied\" in Python\n",
    "print('hello'*5)"
   ]
  },
  {
   "cell_type": "code",
   "execution_count": null,
   "id": "f19a362c",
   "metadata": {},
   "outputs": [],
   "source": [
    "text."
   ]
  }
 ],
 "metadata": {
  "kernelspec": {
   "display_name": "Python 3 (ipykernel)",
   "language": "python",
   "name": "python3"
  },
  "language_info": {
   "codemirror_mode": {
    "name": "ipython",
    "version": 3
   },
   "file_extension": ".py",
   "mimetype": "text/x-python",
   "name": "python",
   "nbconvert_exporter": "python",
   "pygments_lexer": "ipython3",
   "version": "3.11.4"
  }
 },
 "nbformat": 4,
 "nbformat_minor": 5
}
